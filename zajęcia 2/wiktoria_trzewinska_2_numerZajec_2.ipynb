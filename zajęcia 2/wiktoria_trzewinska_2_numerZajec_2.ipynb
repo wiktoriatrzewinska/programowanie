{
  "nbformat": 4,
  "nbformat_minor": 0,
  "metadata": {
    "colab": {
      "provenance": []
    },
    "kernelspec": {
      "name": "python3",
      "display_name": "Python 3"
    },
    "language_info": {
      "name": "python"
    }
  },
  "cells": [
    {
      "cell_type": "code",
      "execution_count": 2,
      "metadata": {
        "colab": {
          "base_uri": "https://localhost:8080/"
        },
        "id": "IV8S_5V9bRM_",
        "outputId": "3ddc1072-d0f3-4870-9b4d-f53c16a67366"
      },
      "outputs": [
        {
          "output_type": "stream",
          "name": "stdout",
          "text": [
            "“Uwielbiam zajęcia z programowania”\n",
            "<class 'str'>\n"
          ]
        }
      ],
      "source": [
        "zdaniepodstawowe= \"“Uwielbiam zajęcia z programowania”\"\n",
        "print (zdaniepodstawowe)\n",
        "print (type(zdaniepodstawowe))"
      ]
    },
    {
      "cell_type": "code",
      "source": [
        "zdaniepodstawowe[14:24]"
      ],
      "metadata": {
        "colab": {
          "base_uri": "https://localhost:8080/",
          "height": 35
        },
        "id": "hGhibc3lctr2",
        "outputId": "2c3dfd43-7f30-4260-d960-dae1cfe5ab85"
      },
      "execution_count": 10,
      "outputs": [
        {
          "output_type": "execute_result",
          "data": {
            "text/plain": [
              "'ęcia z pro'"
            ],
            "application/vnd.google.colaboratory.intrinsic+json": {
              "type": "string"
            }
          },
          "metadata": {},
          "execution_count": 10
        }
      ]
    },
    {
      "cell_type": "code",
      "source": [
        "zdaniepodstawowe[-34:-1]"
      ],
      "metadata": {
        "colab": {
          "base_uri": "https://localhost:8080/",
          "height": 35
        },
        "id": "nWVAKpGPdee3",
        "outputId": "a0258981-5c9e-40b1-ae88-4b0ae675a874"
      },
      "execution_count": 25,
      "outputs": [
        {
          "output_type": "execute_result",
          "data": {
            "text/plain": [
              "'Uwielbiam zajęcia z programowania'"
            ],
            "application/vnd.google.colaboratory.intrinsic+json": {
              "type": "string"
            }
          },
          "metadata": {},
          "execution_count": 25
        }
      ]
    },
    {
      "cell_type": "code",
      "source": [
        "zdaniepodstawowe[2:34:3]"
      ],
      "metadata": {
        "colab": {
          "base_uri": "https://localhost:8080/",
          "height": 35
        },
        "id": "aNoD7rxxfVKo",
        "outputId": "97d530d5-b0bd-407c-886c-11143748431e"
      },
      "execution_count": 34,
      "outputs": [
        {
          "output_type": "execute_result",
          "data": {
            "text/plain": [
              "'wlazęa oawi'"
            ],
            "application/vnd.google.colaboratory.intrinsic+json": {
              "type": "string"
            }
          },
          "metadata": {},
          "execution_count": 34
        }
      ]
    },
    {
      "cell_type": "code",
      "source": [
        "zdanierozszerzone= \"“Czarny to mój ulubiony kolor, niestety, kolor czarny bardzo szybko spiera się z moich ubrań”\""
      ],
      "metadata": {
        "id": "4qLzHF1IhIou"
      },
      "execution_count": 37,
      "outputs": []
    },
    {
      "cell_type": "code",
      "source": [
        "zdanierozszerzone.istitle()"
      ],
      "metadata": {
        "colab": {
          "base_uri": "https://localhost:8080/"
        },
        "id": "ieMnwY0LiIJ3",
        "outputId": "f791df1d-3ef5-4629-9e06-1138dd3847ca"
      },
      "execution_count": 38,
      "outputs": [
        {
          "output_type": "execute_result",
          "data": {
            "text/plain": [
              "False"
            ]
          },
          "metadata": {},
          "execution_count": 38
        }
      ]
    },
    {
      "cell_type": "code",
      "source": [
        "zdanierozszerzone.startswith(\"C\")"
      ],
      "metadata": {
        "colab": {
          "base_uri": "https://localhost:8080/"
        },
        "id": "qyf4EHAImLnO",
        "outputId": "45e2e02e-4316-4566-ef80-bd922b25ff22"
      },
      "execution_count": 45,
      "outputs": [
        {
          "output_type": "execute_result",
          "data": {
            "text/plain": [
              "False"
            ]
          },
          "metadata": {},
          "execution_count": 45
        }
      ]
    },
    {
      "cell_type": "code",
      "source": [
        "zdanierozszerzone.lower()"
      ],
      "metadata": {
        "colab": {
          "base_uri": "https://localhost:8080/",
          "height": 35
        },
        "id": "Qx0yllwtp7su",
        "outputId": "d62e4e0e-16b8-4db7-e945-9efaf6355f98"
      },
      "execution_count": 61,
      "outputs": [
        {
          "output_type": "execute_result",
          "data": {
            "text/plain": [
              "'“czarny to mój ulubiony kolor, niestety, kolor czarny bardzo szybko spiera się z moich ubrań”'"
            ],
            "application/vnd.google.colaboratory.intrinsic+json": {
              "type": "string"
            }
          },
          "metadata": {},
          "execution_count": 61
        }
      ]
    },
    {
      "cell_type": "code",
      "source": [
        "zdanierozszerzone.lower().replace(\"czarny\",\"zielony\")"
      ],
      "metadata": {
        "colab": {
          "base_uri": "https://localhost:8080/",
          "height": 35
        },
        "id": "tPr5X8MuqKd5",
        "outputId": "9b26b3ea-343a-4859-fb59-79bb752f0985"
      },
      "execution_count": 66,
      "outputs": [
        {
          "output_type": "execute_result",
          "data": {
            "text/plain": [
              "'“zielony to mój ulubiony kolor, niestety, kolor zielony bardzo szybko spiera się z moich ubrań”'"
            ],
            "application/vnd.google.colaboratory.intrinsic+json": {
              "type": "string"
            }
          },
          "metadata": {},
          "execution_count": 66
        }
      ]
    },
    {
      "cell_type": "markdown",
      "source": [
        "i teraz nie wiem jak zrobić żeby wielony był z wielkiej litery :(((("
      ],
      "metadata": {
        "id": "5CcpZ6TuroUl"
      }
    }
  ]
}