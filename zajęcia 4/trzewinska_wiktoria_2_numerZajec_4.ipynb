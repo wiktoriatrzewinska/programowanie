{
  "nbformat": 4,
  "nbformat_minor": 0,
  "metadata": {
    "colab": {
      "provenance": []
    },
    "kernelspec": {
      "name": "python3",
      "display_name": "Python 3"
    },
    "language_info": {
      "name": "python"
    }
  },
  "cells": [
    {
      "cell_type": "markdown",
      "source": [
        "Zadanie 1."
      ],
      "metadata": {
        "id": "V2iaFpybM_nA"
      }
    },
    {
      "cell_type": "code",
      "source": [
        "row_counter = 9\n",
        "\n",
        "for i in range(1, row_counter):\n",
        "    for j in range(1, i + 1):\n",
        "        print(j, end=\"\")\n",
        "    print(\" \")\n"
      ],
      "metadata": {
        "id": "cJDmpoz-NF4j"
      },
      "execution_count": null,
      "outputs": []
    },
    {
      "cell_type": "markdown",
      "source": [
        "Zadanie 2."
      ],
      "metadata": {
        "id": "X0zcGYK0NIMB"
      }
    },
    {
      "cell_type": "code",
      "source": [
        "for i in range(1, 6):\n",
        "    print(\"*\" * i)\n",
        "\n",
        "for i in range(4, 0, -1):\n",
        "    print(\"*\" * i)"
      ],
      "metadata": {
        "id": "yyfEz5iKNJs4"
      },
      "execution_count": null,
      "outputs": []
    },
    {
      "cell_type": "markdown",
      "source": [
        "Zadanie 3."
      ],
      "metadata": {
        "id": "l54In0mbNVqf"
      }
    },
    {
      "cell_type": "code",
      "source": [
        "lista_liczb = [6, 2, 3, 7, 1, 12, 56, 99]\n",
        "\n",
        "#a\n",
        "for i in range(len(lista_liczb)):\n",
        "    if lista_liczb[i] >= 10 and lista_liczb[i] <= 99:\n",
        "        lista_liczb[i] = str(lista_liczb[i])\n",
        "\n",
        "#b\n",
        "min_value = min(lista_liczb)\n",
        "print(f\"Najmniejsza wartość: {min_value}\")"
      ],
      "metadata": {
        "id": "8jci4f7jNXHT"
      },
      "execution_count": null,
      "outputs": []
    }
  ]
}