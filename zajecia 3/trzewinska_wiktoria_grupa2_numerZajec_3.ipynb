{
  "nbformat": 4,
  "nbformat_minor": 0,
  "metadata": {
    "colab": {
      "provenance": []
    },
    "kernelspec": {
      "name": "python3",
      "display_name": "Python 3"
    },
    "language_info": {
      "name": "python"
    }
  },
  "cells": [
    {
      "cell_type": "markdown",
      "source": [
        "Zadanie 1. Prototyp formularza rejestracji"
      ],
      "metadata": {
        "id": "8oFYQP03pDlo"
      }
    },
    {
      "cell_type": "code",
      "source": [
        "#imię\n",
        "imie = input(\"Imię:\")\n",
        "if type(imie) == str and imie.isalpha():\n",
        "  print(f\"Witaj {imie}!\")\n",
        "else:\n",
        "  print(\"To nie jest imię. Podaj poprawne dane\")\n",
        "#nazwisko\n",
        "nazwisko = input(\"Nazwisko:\")\n",
        "if type(nazwisko) == str and nazwisko.isalpha():\n",
        "  print(f\"Miło mi poznać {imie} {nazwisko}!\")\n",
        "else:\n",
        "  print(\"Niepoprawne imię. Podaj poprawne dane\")\n",
        "#wiek\n",
        "wiek = input(\"Wiek:\")\n",
        "if wiek.isdigit() == True:\n",
        "  wiek_int = int(wiek)\n",
        "  print(f\"Masz {wiek} lat\")\n",
        "else:\n",
        "  print(\"Niepoprawny wiek. Podaj poprawne dane\")\n",
        "#hasło\n",
        "haslo = input (\"Hasło:\")\n",
        "powtorz_hasło = input(\"Powtórz hasło:\")\n",
        "if haslo != powtorz_hasło:\n",
        "  print(\"Podane hasła się różnią\")\n",
        "else:\n",
        "  print(\"Podane hasła są takie same\")\n",
        "#numer telefonu\n",
        "x = \"123456789\"\n",
        "y = \"123-456-789\"\n",
        "z = \"ncjkdjndkfjndkjvfndkjvf\"\n",
        "\n",
        "#Sprawdzenie dla x\n",
        "if x.isdigit() and len(x) == 9:\n",
        "    print(f\"Prawidłowy numer telefonu: {x}\")\n",
        "elif any(char.isdigit() for char in x) and (('-' in x) or (' ' in x)):\n",
        "    x = ''.join(char for char in x if char.isdigit())\n",
        "\n",
        "    if len(x) == 9:\n",
        "        print(f\"Prawidłowy numer telefonu: {x}\")\n",
        "    else:\n",
        "        print(\"Error: Numer telefonu nie ma dokładnie 9 cyfr.\")\n",
        "else:\n",
        "    print(\"Error: Numer telefonu nie ma dokładnie 9 cyfr.\")\n",
        "\n",
        "#Sprawdzenie dla y\n",
        "if y.isdigit() and len(y) == 9:\n",
        "    print(f\"Prawidłowy numer telefonu: {y}\")\n",
        "elif any(char.isdigit() for char in y) and (('-' in y) or (' ' in y)):\n",
        "    y = ''.join(char for char in y if char.isdigit())\n",
        "\n",
        "    if len(y) == 9:\n",
        "        print(f\"Prawidłowy numer telefonu: {y}\")\n",
        "    else:\n",
        "        print(\"Error: Numer telefonu nie ma dokładnie 9 cyfr.\")\n",
        "else:\n",
        "    print(\"Error: Numer telefonu nie ma dokładnie 9 cyfr.\")\n",
        "\n",
        "#Sprawdzenie dla z\n",
        "if z.isdigit() and len(z) == 9:\n",
        "    print(f\"Prawidłowy numer telefonu: {z}\")\n",
        "elif any(char.isdigit() for char in z) and (('-' in z) or (' ' in z)):\n",
        "    z = ''.join(char for char in z if char.isdigit())\n",
        "\n",
        "    if len(z) == 9:\n",
        "        print(f\"Prawidłowy numer telefonu: {z}\")\n",
        "    else:\n",
        "        print(\"Error: Numer telefonu nie ma dokładnie 9 cyfr.\")\n",
        "else:\n",
        "    print(\"Error: Numer telefonu nie ma dokładnie 9 cyfr.\")\n"
      ],
      "metadata": {
        "id": "XUixSw9QpFSw",
        "colab": {
          "base_uri": "https://localhost:8080/"
        },
        "outputId": "47349fb3-3f47-4232-9f0a-33ec36428160"
      },
      "execution_count": 5,
      "outputs": [
        {
          "output_type": "stream",
          "name": "stdout",
          "text": [
            "Imię:Kinga\n",
            "Witaj Kinga!\n",
            "Nazwisko:Konińska\n",
            "Miło mi poznać Kinga Konińska!\n",
            "Wiek:23\n",
            "Masz 23 lat\n",
            "Hasło:Zebra\n",
            "Powtórz hasło:Zebra\n",
            "Podane hasła są takie same\n",
            "Prawidłowy numer telefonu: 123456789\n",
            "Prawidłowy numer telefonu: 123456789\n",
            "Error: Numer telefonu nie ma dokładnie 9 cyfr.\n"
          ]
        }
      ]
    },
    {
      "cell_type": "markdown",
      "source": [
        "Zadanie 2. Prosty kalkulator"
      ],
      "metadata": {
        "id": "GsN9SzXYrZ4J"
      }
    },
    {
      "cell_type": "code",
      "source": [
        "liczba1 = input(\"Podaj liczbę 1: \")\n",
        "liczba2 = input(\"Podaj liczbę 2: \")\n",
        "\n",
        "#sprawdzenie, czy wprowadzone dane są liczbami\n",
        "if liczba1.isdigit() and liczba2.isdigit():\n",
        "    # Jeśli są liczbami, konwertuj do typu int\n",
        "    liczba1_int = int(liczba1)\n",
        "    liczba2_int = int(liczba2)\n",
        "\n",
        "    # Pobierz operację od użytkownika\n",
        "    działanie = input(\"Podaj działanie (+, -, *, /): \")\n",
        "\n",
        "    # Wykonaj odpowiednią operację arytmetyczną\n",
        "    if działanie == \"dodawanie\":\n",
        "        wynik = liczba1_int + liczba2_int\n",
        "    elif działanie == \"odejmowanie\":\n",
        "        wynik = liczba1_int - liczba2_int\n",
        "    elif działanie == \"mnozenie\":\n",
        "        wynik = liczba1_int * liczba2_int\n",
        "    elif działanie == \"dzielenie\":\n",
        "        #sprawdzenie, czy druga liczba nie jest zerem (dzielenie przez zero)\n",
        "        if liczba2_int != 0:\n",
        "            wynik = liczba1_int / liczba2_int\n",
        "        else:\n",
        "            print(\"Error: Nie można dzielić przez zero.\")\n",
        "            wynik = None  # Ustaw wynik na None w przypadku błędu dzielenia przez zero\n",
        "    else:\n",
        "        print(\"Error: Nieznane działanie.\")\n",
        "        wynik = None  # Ustaw wynik na None w przypadku nieznanej operacji\n",
        "\n",
        "    # Wyświetl wynik\n",
        "    if wynik is not None:\n",
        "        print(f\"Wynik działania {działanie}: {wynik}\")\n",
        "\n",
        "else:\n",
        "    print(\"Błąd: Wprowadzone dane nie są liczbami.\")\n"
      ],
      "metadata": {
        "id": "VfkJYD-OrbQK"
      },
      "execution_count": null,
      "outputs": []
    }
  ]
}