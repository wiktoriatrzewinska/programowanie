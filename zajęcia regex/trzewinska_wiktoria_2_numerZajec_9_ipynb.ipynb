{
  "nbformat": 4,
  "nbformat_minor": 0,
  "metadata": {
    "colab": {
      "provenance": []
    },
    "kernelspec": {
      "name": "python3",
      "display_name": "Python 3"
    },
    "language_info": {
      "name": "python"
    }
  },
  "cells": [
    {
      "cell_type": "code",
      "execution_count": null,
      "metadata": {
        "id": "JwduTKsx9fDz"
      },
      "outputs": [],
      "source": [
        "#text mining\n",
        "#pattern matching - wykrywanie wzorców\n",
        "#wyrażenia regularne- regular expressions REGEX\n",
        "#robimy na regex 101.com\n",
        "#podstawowe, łapanie małych liter, od 3-6 znaków itp"
      ]
    },
    {
      "cell_type": "code",
      "source": [
        "!pip install regex"
      ],
      "metadata": {
        "colab": {
          "base_uri": "https://localhost:8080/"
        },
        "id": "fp1woKFbJPM_",
        "outputId": "97aed4ca-6d51-4b55-b480-d100e7ff2d8c"
      },
      "execution_count": null,
      "outputs": [
        {
          "output_type": "stream",
          "name": "stdout",
          "text": [
            "Requirement already satisfied: regex in /usr/local/lib/python3.10/dist-packages (2023.6.3)\n"
          ]
        }
      ]
    },
    {
      "cell_type": "code",
      "source": [
        "import regex as re\n",
        "\n",
        "tekst = \"Jan Nowak lubi ryby i Jana Kowalskiego \""
      ],
      "metadata": {
        "id": "pk1UbhxKI-gz"
      },
      "execution_count": null,
      "outputs": []
    },
    {
      "cell_type": "code",
      "source": [
        "nazwiska = re.findall.(\"[A-Z][a-z]+\\s[A-Z][a-z]+\")"
      ],
      "metadata": {
        "colab": {
          "base_uri": "https://localhost:8080/",
          "height": 141
        },
        "id": "fnexFiBsJ04o",
        "outputId": "5ae79d82-eacf-45c3-cd1d-4fd008c6e559"
      },
      "execution_count": 2,
      "outputs": [
        {
          "output_type": "error",
          "ename": "SyntaxError",
          "evalue": "invalid syntax (<ipython-input-2-49ed4986fefc>, line 1)",
          "traceback": [
            "\u001b[0;36m  File \u001b[0;32m\"<ipython-input-2-49ed4986fefc>\"\u001b[0;36m, line \u001b[0;32m1\u001b[0m\n\u001b[0;31m    nazwiska = re.findall.(\"[A-Z][a-z]+\\s[A-Z][a-z]+\")\u001b[0m\n\u001b[0m                          ^\u001b[0m\n\u001b[0;31mSyntaxError\u001b[0m\u001b[0;31m:\u001b[0m invalid syntax\n"
          ]
        }
      ]
    },
    {
      "cell_type": "code",
      "source": [
        "import re\n",
        "\n",
        "tekst1 = \"Imię i nazwisko: Hubar, Patryk. Data urodzenia: 7 czerwca 1993. Numer telefonu: 123-456-789\"\n",
        "tekst2 = \"Imię i nazwisko: Mickiewicz, Adam. Data urodzenia: 22 stycznia 1877. Numer telefonu: 789456123\"\n",
        "\n",
        "imie_nazwisko_pattern = re.compile(r\"Imię i nazwisko: (\\w+, \\w+)\\.\")\n",
        "data_urodzenia_pattern = re.compile(r\"Data urodzenia: ([\\w\\s]+ \\d{4})\\.\")\n",
        "numer_telefonu_pattern = re.compile(r\"Numer telefonu: (\\d{3}-\\d{3}-\\d{3})\")\n",
        "\n",
        "imie_nazwisko_match = imie_nazwisko_pattern.search(tekst1)\n",
        "data_urodzenia_match = data_urodzenia_pattern.search(tekst1)\n",
        "numer_telefonu_match = numer_telefonu_pattern.search(tekst1)\n",
        "\n",
        "imie_nazwisko_tekst1 = imie_nazwisko_match.group(1) if imie_nazwisko_match else None\n",
        "data_urodzenia_tekst1 = data_urodzenia_match.group(1) if data_urodzenia_match else None\n",
        "numer_telefonu_tekst1 = numer_telefonu_match.group(1) if numer_telefonu_match else None\n",
        "\n",
        "imie_nazwisko_match = imie_nazwisko_pattern.search(tekst2)\n",
        "data_urodzenia_match = data_urodzenia_pattern.search(tekst2)\n",
        "numer_telefonu_match = numer_telefonu_pattern.search(tekst2)\n",
        "\n",
        "imie_nazwisko_tekst2 = imie_nazwisko_match.group(1) if imie_nazwisko_match else None\n",
        "data_urodzenia_tekst2 = data_urodzenia_match.group(1) if data_urodzenia_match else None\n",
        "numer_telefonu_tekst2 = numer_telefonu_match.group(1) if numer_telefonu_match else None\n",
        "\n",
        "imiona_nazwiska = [imie_nazwisko_tekst1, imie_nazwisko_tekst2]\n",
        "daty_urodzenia = [data_urodzenia_tekst1, data_urodzenia_tekst2]\n",
        "numery_telefonu = [numer_telefonu_tekst1, numer_telefonu_tekst2]\n",
        "\n",
        "print(\"Imiona i nazwiska:\", imiona_nazwiska)\n",
        "print(\"Daty urodzenia:\", daty_urodzenia)\n",
        "print(\"Numery telefonu:\", numery_telefonu)"
      ],
      "metadata": {
        "colab": {
          "base_uri": "https://localhost:8080/"
        },
        "id": "eZT0Sf5zO_Es",
        "outputId": "f82187a0-7524-4c43-e131-c6db1c9c1e4b"
      },
      "execution_count": 6,
      "outputs": [
        {
          "output_type": "stream",
          "name": "stdout",
          "text": [
            "Imiona i nazwiska: ['Hubar, Patryk', 'Mickiewicz, Adam']\n",
            "Daty urodzenia: ['7 czerwca 1993', '22 stycznia 1877']\n",
            "Numery telefonu: ['123-456-789', None]\n"
          ]
        }
      ]
    }
  ]
}